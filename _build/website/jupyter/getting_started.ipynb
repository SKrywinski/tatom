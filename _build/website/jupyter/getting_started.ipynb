{
 "cells": [
  {
   "cell_type": "markdown",
   "metadata": {},
   "source": [
    "\n",
    "<a id='index-0'></a>\n",
    "\n",
    "<a id='getting-started'></a>"
   ]
  },
  {
   "cell_type": "markdown",
   "metadata": {},
   "source": [
    "# Getting started"
   ]
  },
  {
   "cell_type": "markdown",
   "metadata": {},
   "source": [
    "## For those new to Python\n",
    "\n",
    "Those with prior programming experience may benefit from the following\n",
    "introduction to Python that has been written for an audience in the humanities.\n",
    "\n",
    "- [Python Programming for the Humanities](http://fbkarsdorp.github.io/python-course/) by Folgert Karsdorp and Maarten\n",
    "  van Gompel  "
   ]
  },
  {
   "cell_type": "markdown",
   "metadata": {},
   "source": [
    "### For those new to programming\n",
    "\n",
    "Those new to programming may wish to consider the following introductory courses\n",
    "before diving into the following tutorials. Both these courses are taught using\n",
    "Python and assume no prior exposure to computer programming. The MIT course is\n",
    "excellent.\n",
    "\n",
    "- [Introduction to Computer Science and Programming](https://www.edx.org/course/mit/6-00x/introduction-computer-science/586)\n",
    "  (MIT 6.00x) taught by Eric Grimson and John Guttag (among others).  \n",
    "- [Learn to Programm: The Fundamentals](https://www.coursera.org/course/programming1) (University of Toronto)\n",
    "  taught by Jennifer Campbell and Paul Gries.  \n",
    "\n",
    "\n",
    "\n",
    "<a id='getting-started-numpy'></a>"
   ]
  },
  {
   "cell_type": "markdown",
   "metadata": {},
   "source": [
    "## For those new to NumPy\n",
    "\n",
    "[NumPy](http://www.numpy.org) is a Python package which provides an `array`\n",
    "data structure that is widely used in the Python community to represent\n",
    "a two-dimensional table of data. Such a structure is useful in representing\n",
    "a text corpus as a table of document-term frequencies.\n",
    "\n",
    "Those with considerable experience in Python but little exposure to NumPy will\n",
    "find the following series of [lectures on scientific computing with Python](http://scipy-lectures.github.io/index.html) helpful, in particular the\n",
    "chapter [NumPy: creating and manipulating numerical data](http://scipy-lectures.github.io/intro/numpy/index.html).\n",
    "\n",
    "While NumPy functions will be introduced as they are used, readers familiar with\n",
    "R or Octave/Matlab will likely find themselves searching for the Python\n",
    "equivalent of some function in R or Octave.  For example, the NumPy equivalent\n",
    "of R’s `apply(X, 1, sum)` (or `rowSums(X)`) is `np.sum(X, axis=1)`.  There\n",
    "are a number of websites that list such equivalences."
   ]
  },
  {
   "cell_type": "markdown",
   "metadata": {},
   "source": [
    "### For anyone\n",
    "\n",
    "- [NumPy: creating and manipulating numerical data](http://scipy-lectures.github.io/intro/numpy/index.html) (part of the\n",
    "  excellent [Python Scientific Lecture Notes](http://scipy-lectures.github.io/index.html))  \n",
    "- [NumPy indexing](http://wiki.scipy.org/Cookbook/Indexing)  "
   ]
  },
  {
   "cell_type": "markdown",
   "metadata": {},
   "source": [
    "### For R an Octave/Matlab users\n",
    "\n",
    "- [NumPy for R users](http://mathesaurus.sourceforge.net/r-numpy.html)  \n",
    "- [NumPy for Matlab Users](http://wiki.scipy.org/NumPy_for_Matlab_Users)  \n",
    "\n",
    "\n",
    "\n",
    "<a id='getting-started-matplotlib'></a>"
   ]
  },
  {
   "cell_type": "markdown",
   "metadata": {},
   "source": [
    "## For those new to Matplotlib\n",
    "\n",
    "Matplotlib is the most popular graphing and visualization package for Python and\n",
    "this tutorial uses it. An comprehensive introduction to Matplotlib is included\n",
    "in the [Python Scientific Lecture Notes](http://scipy-lectures.github.io/index.html) ([Matplotlib: plotting](http://scipy-lectures.github.io/intro/matplotlib/matplotlib.html))."
   ]
  }
 ],
 "metadata": {
  "date": 1577189965.5902414,
  "filename": "getting_started.rst",
  "kernelspec": {
   "display_name": "Python",
   "language": "python3",
   "name": "python3"
  },
  "title": "Getting started"
 },
 "nbformat": 4,
 "nbformat_minor": 2
}