{
 "cells": [
  {
   "cell_type": "markdown",
   "metadata": {},
   "source": [
    "\n",
    "<a id='index-0'></a>\n",
    "\n",
    "<a id='datasets'></a>"
   ]
  },
  {
   "cell_type": "markdown",
   "metadata": {},
   "source": [
    "# Datasets\n",
    "\n",
    "These texts are available in a compressed zip file: <a href=datasets.zip download>datasets.zip</a>."
   ]
  },
  {
   "cell_type": "markdown",
   "metadata": {},
   "source": [
    "## British novels\n",
    "\n",
    "- A small collection of British novels provided by Jan Rybiki (`british-fiction-corpus`)  \n",
    "- Austen and Charlotte Brontë (`austen-brontë`)  \n",
    "- Austen and Charlotte Brontë (novels split into smaller parts) (`austen-brontë-split`)  "
   ]
  },
  {
   "cell_type": "markdown",
   "metadata": {},
   "source": [
    "## French plays\n",
    "\n",
    "- A selection of French Tragedies (`french-tragedy`)  \n",
    "- A selection of French Tragedies (split into small sections) (`french-tragedy-split`)  "
   ]
  },
  {
   "cell_type": "markdown",
   "metadata": {},
   "source": [
    "## Les Misérables\n",
    "\n",
    "- Victor Hugo’s Les Misérables (`hugo-les-misérables`)  \n",
    "- Victor Hugo’s Les Misérables (split into small sections) (`hugo-les-misérables-split`)  "
   ]
  },
  {
   "cell_type": "markdown",
   "metadata": {},
   "source": [
    "## Stopword lists\n",
    "\n",
    "- A French stopwords list is found in the `stopwords` directory.  "
   ]
  }
 ],
 "metadata": {
  "date": 1577189965.4243588,
  "download_nb": true,
  "download_nb_path": null,
  "filename": "datasets.rst",
  "filename_with_path": "datasets",
  "kernelspec": {
   "display_name": "Python",
   "language": "python3",
   "name": "python3"
  },
  "language_info": {
   "codemirror_mode": {
    "name": "ipython",
    "version": 3
   },
   "file_extension": ".py",
   "mimetype": "text/x-python",
   "name": "python",
   "nbconvert_exporter": "python",
   "pygments_lexer": "ipython3",
   "version": "3.6.1"
  },
  "title": "Datasets"
 },
 "nbformat": 4,
 "nbformat_minor": 2
}
