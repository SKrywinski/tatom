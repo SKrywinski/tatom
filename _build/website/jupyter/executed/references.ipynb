{
 "cells": [
  {
   "cell_type": "markdown",
   "metadata": {},
   "source": [
    "\n",
    "<a id='references'></a>"
   ]
  },
  {
   "cell_type": "markdown",
   "metadata": {},
   "source": [
    "# References\n",
    "\n",
    "<a id='arora-practical-2013'></a>\n",
    "\\[AGH+13\\] Sanjeev Arora, Rong Ge, Yoni Halpern, David Mimno, Ankur Moitra, David Sontag, Yichen Wu, and Michael Zhu. A practical algorithm for topic modeling with provable guarantees. In *Proceedings of the 30th International Conference on Machine Learning*. ACM, 2013.\n",
    "\n",
    "<a id='bishop-pattern-2007'></a>\n",
    "\\[Bis07\\] Christopher M. Bishop. *Pattern Recognition and Machine Learning*. Springer, New York, 2007. ISBN 0387310738.\n",
    "\n",
    "<a id='blei-introduction-2012'></a>\n",
    "\\[Ble12\\] David Blei. Introduction to probabilistic topic models. *Communications of the ACM*, 55(4):77–84, 2012. [doi:10.1145/2133806.2133826](https://doi.org/10.1145/2133806.2133826).\n",
    "\n",
    "<a id='blei-dynamic-2006'></a>\n",
    "\\[BL06\\] David M. Blei and John D. Lafferty. Dynamic topic models. In *Proceedings of the 23rd International Conference on Machine Learning*, 113–120. Pittsburgh, PA, 2006. ACM.\n",
    "\n",
    "<a id='blei-latent-2003'></a>\n",
    "\\[BNJ03\\] David M. Blei, Andrew Y. Ng, and Michael I. Jordan. Latent dirichlet allocation. *Journal of Machine Learning Research*, 3:993—1022, 2003. URL: [http://jmlr.csail.mit.edu/papers/v3/blei03a.html](http://jmlr.csail.mit.edu/papers/v3/blei03a.html).\n",
    "\n",
    "<a id='brennan-adversarial-2011'></a>\n",
    "\\[BAG11\\] Michael Brennan, Sadia Afroz, and Rachel Greenstadt. Adversarial stylometry: circumventing authorship recognition to preserve privacy and anonymity. *ACM Transactions on Information and System Security*, 1(1):1:1–1:21, 2011.\n",
    "\n",
    "<a id='casella-statistical-2001'></a>\n",
    "\\[CB01\\] George Casella and Roger L. Berger. *Statistical Inference*. Duxbury Press, 2 edition, 2001. ISBN 0534243126.\n",
    "\n",
    "<a id='church-poisson-1995'></a>\n",
    "\\[CG95\\] Kenneth W Church and William A Gale. Poisson mixtures. *Natural Language Engineering*, 1:163—190, 1995. URL: [http://citeseerx.ist.psu.edu/viewdoc/summary?doi=10.1.1.38.3957](http://citeseerx.ist.psu.edu/viewdoc/summary?doi=10.1.1.38.3957).\n",
    "\n",
    "<a id='dunning-accurate-1993'></a>\n",
    "\\[Dun93\\] Ted Dunning. Accurate methods for the statistics of surprise and coincidence. *Computational Linguistic*, 19:61–74, 1993.\n",
    "\n",
    "<a id='gelman-data-2006'></a>\n",
    "\\[GH06\\] Andrew Gelman and Jennifer Hill. *Data Analysis Using Regression and Multilevel/Hierarchical Models*. Cambridge University Press, 2006. ISBN 052168689X.\n",
    "\n",
    "<a id='hoff-first-2009'></a>\n",
    "\\[Hof09\\] Peter D. Hoff. *A First Course in Bayesian Statistical Methods*. Springer, New York, 2009. ISBN 0387922997.\n",
    "\n",
    "<a id='hoover-corpus-2007'></a>\n",
    "\\[Hoo07\\] David L. Hoover. Corpus stylistics, stylometry, and the styles of henry james. *Style*, 2007. URL: [http://findarticles.com/p/articles/mi_m2342/is_2_41/ai_n21053968/](http://findarticles.com/p/articles/mi_m2342/is_2_41/ai_n21053968/).\n",
    "\n",
    "<a id='kadane-principles-2011'></a>\n",
    "\\[Kad11\\] Joseph B. Kadane. *Principles of Uncertainty*. Chapman & Hall/CRC, 2011. ISBN 1439861617.\n",
    "\n",
    "<a id='lee-bayesian-2004'></a>\n",
    "\\[Lee04\\] Peter M. Lee. *Bayesian Statistics: An Introduction*. Wiley, London, 3 edition, 2004. ISBN 0340814055.\n",
    "\n",
    "<a id='manning-introduction-2008'></a>\n",
    "\\[MRS08\\] Christopher Manning, Prabhakar Raghavan, and Hinrich Schütze. *Introduction to information retrieval*. Cambridge University Press, 2008. ISBN 9780521865715. URL: [http://www-nlp.stanford.edu/IR-book/](http://www-nlp.stanford.edu/IR-book/).\n",
    "\n",
    "<a id='pritchard-inference-2000'></a>\n",
    "\\[PSD00\\] Jonathan K. Pritchard, Matthew Stephens, and Peter Donnelly. Inference of population structure using multilocus genotype data. *Genetics*, 155(2):945 –959, June 2000.\n",
    "\n",
    "<a id='rosenberg-genetic-2002'></a>\n",
    "\\[RPW+02\\] Noah A. Rosenberg, Jonathan K. Pritchard, James L. Weber, Howard M. Cann, Kenneth K. Kidd, Lev A. Zhivotovsky, and Marcus W. Feldman. Genetic structure of human populations. *Science*, 298(5602):2381 –2385, December 2002. URL: [http://www.sciencemag.org/content/298/5602/2381.abstract](http://www.sciencemag.org/content/298/5602/2381.abstract), [doi:10.1126/science.1078311](https://doi.org/10.1126/science.1078311).\n",
    "\n",
    "<a id='mackay-information-2003'></a>\n",
    "\\[MacKay03\\] David J. C. MacKay. *Information Theory, Inference, and Learning Algorithms*. Cambridge University Press, Cambridge, 2003. ISBN 0521642981. URL: [http://www.inference.phy.cam.ac.uk/itprnn/book.html](http://www.inference.phy.cam.ac.uk/itprnn/book.html)."
   ]
  }
 ],
 "metadata": {
  "date": 1577189965.9120762,
  "download_nb": true,
  "download_nb_path": null,
  "filename": "references.rst",
  "filename_with_path": "references",
  "kernelspec": {
   "display_name": "Python",
   "language": "python3",
   "name": "python3"
  },
  "language_info": {
   "codemirror_mode": {
    "name": "ipython",
    "version": 3
   },
   "file_extension": ".py",
   "mimetype": "text/x-python",
   "name": "python",
   "nbconvert_exporter": "python",
   "pygments_lexer": "ipython3",
   "version": "3.6.1"
  },
  "title": "References"
 },
 "nbformat": 4,
 "nbformat_minor": 2
}
