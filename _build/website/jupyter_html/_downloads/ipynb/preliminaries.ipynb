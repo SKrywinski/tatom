{
 "cells": [
  {
   "cell_type": "markdown",
   "metadata": {},
   "source": [
    "\n",
    "<a id='index-0'></a>\n",
    "\n",
    "<a id='preliminaries'></a>"
   ]
  },
  {
   "cell_type": "markdown",
   "metadata": {},
   "source": [
    "# Preliminaries\n",
    "\n",
    "These tutorials make use of a number of Python packages. This section describes\n",
    "how to install these packages. (If you do not already have Python 3 installed on\n",
    "your system you may wish to skip to the section [Installing Python](#installing-python).)"
   ]
  },
  {
   "cell_type": "markdown",
   "metadata": {},
   "source": [
    "## Required Python packages\n",
    "\n",
    "The tutorials collected here assume that Python version 3.3 or higher is\n",
    "installed along with the following packages:\n",
    "\n",
    "- [NumPy](http://numpy.org) version 1.7 or higher  \n",
    "- [SciPy](http://scipy.org) version 0.12 or higher  \n",
    "- [matplotlib](http://matplotlib.org) version 1.3.1 or higher  \n",
    "- [Pandas](http://pandas.pydata.org/) version 0.14.1 or higher.  \n",
    "- [NLTK](http://nltk.org) version 3.0 or higher  \n",
    "- [scikit-learn](http://scikit-learn.org) version 0.15.0 or higher  \n",
    "\n",
    "\n",
    ">**Note**\n",
    ">\n",
    ">As of this writing, [NLTK 3.0 “alpha”](http://nltk.org/nltk3-alpha) is the\n",
    "only version released that works with Python 3. It must be [installed\n",
    "from source](#installing-from-source). If you have `pip` available just\n",
    "use: `pip install http://nltk.org/nltk3-alpha/nltk-3.0a4.tar.gz`\n",
    "\n",
    "If these packages are installed, the following lines of code should run in\n",
    "a Python interpreter without error."
   ]
  },
  {
   "cell_type": "code",
   "execution_count": null,
   "metadata": {
    "hide-output": false
   },
   "outputs": [],
   "source": [
    "import numpy\n",
    "numpy.__version__\n",
    "import scipy\n",
    "scipy.__version__\n",
    "import matplotlib\n",
    "matplotlib.__version__\n",
    "import pandas\n",
    "pandas.__version__\n",
    "import nltk\n",
    "nltk.__version__\n",
    "import sklearn\n",
    "sklearn.__version__"
   ]
  },
  {
   "cell_type": "markdown",
   "metadata": {},
   "source": [
    "The following packages are also worth checking out:\n",
    "\n",
    "- [IPython](http://www.ipython.org)  \n",
    "- [statsmodels](http://statsmodels.sourceforge.net/)  "
   ]
  },
  {
   "cell_type": "code",
   "execution_count": null,
   "metadata": {
    "hide-output": false
   },
   "outputs": [],
   "source": [
    "import IPython\n",
    "IPython.__version__\n",
    "import statsmodels\n",
    "statsmodels.__version__"
   ]
  },
  {
   "cell_type": "markdown",
   "metadata": {},
   "source": [
    ">**Note**\n",
    ">\n",
    ">Why Python 3? Python 3 [stores strings as Unicode](https://docs.python.org/3.3/library/stdtypes.html#textseq).\n",
    "This makes working with languages other than English immeasurably easier. In\n",
    "Python 3, “文” and “ø” are characters like “a” and “o” and require no special\n",
    "handling.\n",
    "\n",
    "\n",
    "<a id='installing-python'></a>"
   ]
  },
  {
   "cell_type": "markdown",
   "metadata": {},
   "source": [
    "## Installing Python"
   ]
  },
  {
   "cell_type": "markdown",
   "metadata": {},
   "source": [
    "### Installing Python on Linux\n",
    "\n",
    "On Debian-based systems such as Ubuntu, Python 3 may be installed with:"
   ]
  },
  {
   "cell_type": "code",
   "execution_count": null,
   "metadata": {
    "hide-output": false
   },
   "outputs": [],
   "source": [
    "apt-get install python3"
   ]
  },
  {
   "cell_type": "markdown",
   "metadata": {},
   "source": [
    "On Fedora the command is:"
   ]
  },
  {
   "cell_type": "code",
   "execution_count": null,
   "metadata": {
    "hide-output": false
   },
   "outputs": [],
   "source": [
    "yum install python3"
   ]
  },
  {
   "cell_type": "markdown",
   "metadata": {},
   "source": [
    "Depending on how current the operating system is, these commands may or may not\n",
    "install Python version 3.3 or higher. Find the version of python available by\n",
    "running `python3 --version` in a terminal."
   ]
  },
  {
   "cell_type": "markdown",
   "metadata": {},
   "source": [
    "### Installing packages on Mac OS X\n",
    "\n",
    "Installing Python 3 via [homebrew](http://brew.sh/) is the preferred method\n",
    "for those comfortable with the OS X command line interface.\n",
    "\n",
    "[Mac OS X installers](http://www.python.org/download/) for Python may be found\n",
    "on the official [Python website](http://python.org).\n",
    "\n",
    "Finally, Python 3.3 may also be installed via MacPorts <http://macports.org."
   ]
  },
  {
   "cell_type": "markdown",
   "metadata": {},
   "source": [
    "### Installing Python on Windows\n",
    "\n",
    "There are also a number of distributions of Python for Windows that come bundled\n",
    "with Python packages relevant to scientific computing including as NumPy, SciPy,\n",
    "and scikit-learn.  One such distribution with excellent support for Python\n",
    "3 is [Anaconda Python](https://store.continuum.io/cshop/anaconda).\n",
    "\n",
    "\n",
    "<a id='installing-packages'></a>"
   ]
  },
  {
   "cell_type": "markdown",
   "metadata": {},
   "source": [
    "## Installing Python packages"
   ]
  },
  {
   "cell_type": "markdown",
   "metadata": {},
   "source": [
    "### Installing packages on Linux\n",
    "\n",
    ">**Note**\n",
    ">\n",
    ">Advanced users may want to consider isolating these packages in\n",
    "a [virtual environment](http://docs.python.org/3/library/venv.html)."
   ]
  },
  {
   "cell_type": "markdown",
   "metadata": {},
   "source": [
    "#### Using the package manager\n",
    "\n",
    "On recent versions of Debian and Ubuntu as well as Fedora Linux there are\n",
    "recompiled packages available that cover almost all of the requirements. With\n",
    "`apt-get` most of the requirements are installed with the following command:"
   ]
  },
  {
   "cell_type": "code",
   "execution_count": null,
   "metadata": {
    "hide-output": false
   },
   "outputs": [],
   "source": [
    "sudo apt-get install python3-numpy python3-scipy python3-pandas python3-matplotlib ipython3"
   ]
  },
  {
   "cell_type": "markdown",
   "metadata": {},
   "source": [
    "#### Using pip\n",
    "\n",
    "Installing the required packages is straightforward if the [pip](http://www.pip-installer.org/) installer is available. For example,\n",
    "NLTK may be installed with the following command:"
   ]
  },
  {
   "cell_type": "code",
   "execution_count": null,
   "metadata": {
    "hide-output": false
   },
   "outputs": [],
   "source": [
    "pip install http://nltk.org/nltk3-alpha/nltk-3.0a4.tar.gz"
   ]
  },
  {
   "cell_type": "markdown",
   "metadata": {},
   "source": [
    "`scikit-learn` may also be installed with `pip`:"
   ]
  },
  {
   "cell_type": "code",
   "execution_count": null,
   "metadata": {
    "hide-output": false
   },
   "outputs": [],
   "source": [
    "pip install scikit-learn"
   ]
  },
  {
   "cell_type": "markdown",
   "metadata": {},
   "source": [
    "\n",
    "<a id='installing-from-source'></a>"
   ]
  },
  {
   "cell_type": "markdown",
   "metadata": {},
   "source": [
    "#### Installing from source\n",
    "\n",
    "`pip` should be available on any system with Python 3.4 or higher installed. If `pip`\n",
    "is not available, the packages may be installed from source. Source “tarballs”\n",
    "for NumPy and matplotlib can be obtained and installed with the following\n",
    "sequence of commands. To install NumPy from source use the following commands:"
   ]
  },
  {
   "cell_type": "code",
   "execution_count": null,
   "metadata": {
    "hide-output": false
   },
   "outputs": [],
   "source": [
    "curl -O https://pypi.python.org/packages/source/n/numpy/numpy-1.8.1.tar.gz\n",
    "tar zxvf numpy-1.7.1.tar.gz\n",
    "cd numpy-1.7.1\n",
    "python setup.py install"
   ]
  },
  {
   "cell_type": "markdown",
   "metadata": {},
   "source": [
    "To install matplotlib from source, enter the following commands:"
   ]
  },
  {
   "cell_type": "code",
   "execution_count": null,
   "metadata": {
    "hide-output": false
   },
   "outputs": [],
   "source": [
    "curl -O -L https://downloads.sourceforge.net/project/matplotlib/matplotlib/matplotlib-1.3.1/matplotlib-1.3.1.tar.gz\n",
    "tar zxvf matplotlib-1.3.1.tar.gz\n",
    "cd matplotlib-1.3.1\n",
    "python setup.py install"
   ]
  },
  {
   "cell_type": "markdown",
   "metadata": {},
   "source": [
    "To install NTLK:"
   ]
  },
  {
   "cell_type": "code",
   "execution_count": null,
   "metadata": {
    "hide-output": false
   },
   "outputs": [],
   "source": [
    "curl -O http://nltk.org/nltk3-alpha/nltk-3.0a4.tar.gz\n",
    "tar zxvf nltk-3.0a4.tar.gz\n",
    "cd nltk-3.0a4\n",
    "python setup.py install"
   ]
  },
  {
   "cell_type": "markdown",
   "metadata": {},
   "source": [
    "### Installing packages on Mac OS X\n",
    "\n",
    "Installation of Python 3 and the required packages may be accomplished using\n",
    "[MacPorts](http://macports.org) or [homebrew](http://brew.sh/). For example,\n",
    "the following command installs `matplotlib` for Python version 3.3 under\n",
    "MacPorts:\n",
    "\n",
    "> sudo port install py33-matplotlib\n",
    "\n",
    "\n",
    "Homebrew has a wiki page [Homebrew and Python](https://github.com/mxcl/homebrew/wiki/Homebrew-and-Python) that describes how\n",
    "Python is handled in homebrew."
   ]
  },
  {
   "cell_type": "markdown",
   "metadata": {},
   "source": [
    "### Installing packages on Windows\n",
    "\n",
    "There are a number of distributions of Python for Windows that come pre-packaged\n",
    "with packages relevant to scientific computing such as NumPy and SciPy. They\n",
    "include, for example, [Anaconda Python](https://store.continuum.io/cshop/anaconda). Anaconda includes almost all the\n",
    "packages used here. Also available are instructions on how to use Python 3 with\n",
    "Anaconda <http://continuum.io/blog/anaconda-python-3>."
   ]
  }
 ],
 "metadata": {
  "date": 1577189965.7383864,
  "filename": "preliminaries.rst",
  "kernelspec": {
   "display_name": "Python",
   "language": "python3",
   "name": "python3"
  },
  "title": "Preliminaries"
 },
 "nbformat": 4,
 "nbformat_minor": 2
}