{
 "cells": [
  {
   "cell_type": "markdown",
   "metadata": {},
   "source": [
    "\n",
    "<a id='index-0'></a>\n",
    "\n",
    "<a id='datasets'></a>"
   ]
  },
  {
   "cell_type": "markdown",
   "metadata": {},
   "source": [
    "# Datasets\n",
    "\n",
    "These texts are available in a compressed zip file: <a href=datasets.zip download>datasets.zip</a>."
   ]
  },
  {
   "cell_type": "markdown",
   "metadata": {},
   "source": [
    "## British novels\n",
    "\n",
    "- A small collection of British novels provided by Jan Rybiki (`british-fiction-corpus`)  \n",
    "- Austen and Charlotte Brontë (`austen-brontë`)  \n",
    "- Austen and Charlotte Brontë (novels split into smaller parts) (`austen-brontë-split`)  "
   ]
  },
  {
   "cell_type": "markdown",
   "metadata": {},
   "source": [
    "## French plays\n",
    "\n",
    "- A selection of French Tragedies (`french-tragedy`)  \n",
    "- A selection of French Tragedies (split into small sections) (`french-tragedy-split`)  "
   ]
  },
  {
   "cell_type": "markdown",
   "metadata": {},
   "source": [
    "## Les Misérables\n",
    "\n",
    "- Victor Hugo’s Les Misérables (`hugo-les-misérables`)  \n",
    "- Victor Hugo’s Les Misérables (split into small sections) (`hugo-les-misérables-split`)  "
   ]
  },
  {
   "cell_type": "markdown",
   "metadata": {},
   "source": [
    "## Stopword lists\n",
    "\n",
    "- A French stopwords list is found in the `stopwords` directory.  "
   ]
  }
 ],
 "metadata": {
  "date": 1577189940.7213485,
  "filename": "datasets.rst",
  "kernelspec": {
   "display_name": "Python",
   "language": "python3",
   "name": "python3"
  },
  "title": "Datasets"
 },
 "nbformat": 4,
 "nbformat_minor": 2
}