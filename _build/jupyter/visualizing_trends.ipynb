{
 "cells": [
  {
   "cell_type": "markdown",
   "metadata": {},
   "source": [
    "\n",
    "<a id='index-0'></a>\n",
    "\n",
    "<a id='visualizing-trends'></a>"
   ]
  },
  {
   "cell_type": "markdown",
   "metadata": {},
   "source": [
    "# Visualizing trends\n",
    "\n",
    "Texts often have a sequence. Newspapers and periodicals have volumes.\n",
    "Novels have chapters. Personal diaries have dated entries. Visualizations of\n",
    "topic models may benefit from incorporating information about where a text falls\n",
    "in a sequence.\n",
    "\n",
    "As a motivating example, consider Victor Hugo’s *Les Misérables*. Over 500,000\n",
    "words long, the book counts as a lengthy text by any\n",
    "standard.[#fn_les_mis]_ The novel comes in five volumes (“Fantine”, “Cosette”,\n",
    "“Marius”, “The Idyll in the Rue Plumet and the Epic in the Rue St. Denis”, and\n",
    "“Jean Valjean”). And within each volume we have a sequence of chapters. (And\n",
    "within each chapter we have a sequence of paragraphs, …). In this section we\n",
    "will address how to visualize topic shares in sequence.\n",
    "\n",
    "To whet your appetite, consider the rise and fall of a topic associated with\n",
    "revolutionary activity in *Les Misérables*:\n",
    "\n",
    "![_static/plot_topics_over_time_series_les_misérables.png](_static/plot_topics_over_time_series_les_misérables.png)  \n",
    "([Enjolras](https://en.wikipedia.org/wiki/Enjolras) is the leader of the\n",
    "revolutionary *Les Amis de l’ABC*.)\n",
    "\n",
    ">**Note**\n",
    ">\n",
    ">Probabilistic models such as topic models often benefit from\n",
    "incorporating information about where an individual text falls in a larger\n",
    "sequence of texts [[BL06]](references.ipynb#blei-dynamic-2006)."
   ]
  },
  {
   "cell_type": "markdown",
   "metadata": {},
   "source": [
    "## Plotting trends\n",
    "\n",
    "As always, we first need to fit a topic model to the corpus. As MALLET has no\n",
    "built-in French stopword list we need to provide one. We will use the [French\n",
    "stopword list](http://svn.tartarus.org/snowball/trunk/website/algorithms/french/stop.txt)\n",
    "from the Snowball stemmer package. Additionally, because we are dealing with\n",
    "non-English text we need to use an alternate regular expression for\n",
    "tokenization. MALLET helpfully suggests `--token-regex '[\\p{L}\\p{M}]+'`."
   ]
  },
  {
   "cell_type": "markdown",
   "metadata": {
    "hide-output": false
   },
   "source": [
    "```bash\n",
    "mallet-2.0.7/bin/mallet import-dir --input data/hugo-les-misérables-split/ --output /tmp/topic-input-hugo.mallet --keep-sequence --remove-stopwords --stoplist-file data/stopwords/french.txt --token-regex '[\\p{L}\\p{M}]+'\n",
    "mallet-2.0.7/bin/mallet train-topics --input /tmp/topic-input-hugo.mallet --num-topics 50 --output-doc-topics /tmp/doc-topics-hugo.txt --output-topic-keys /tmp/topic-keys-hugo.txt --word-topic-counts-file /tmp/word-topic-hugo.txt\n",
    "```\n"
   ]
  },
  {
   "cell_type": "markdown",
   "metadata": {},
   "source": [
    "As usual, we post-process the MALLET output in order to get a matrix of topic\n",
    "proportions. Each row of the matrix holds the topic proportions associated with\n",
    "a document."
   ]
  },
  {
   "cell_type": "code",
   "execution_count": null,
   "metadata": {
    "hide-output": false
   },
   "outputs": [],
   "source": [
    "import numpy as np\n",
    "import itertools\n",
    "import operator\n",
    "import os\n",
    "\n",
    "def grouper(n, iterable, fillvalue=None):\n",
    "    \"Collect data into fixed-length chunks or blocks\"\n",
    "    # grouper(3, 'ABCDEFG', 'x') --> ABC DEF Gxx\"\n",
    "    args = [iter(iterable)] * n\n",
    "    return itertools.zip_longest(*args, fillvalue=fillvalue)\n",
    "\n",
    "doctopic_triples = []\n",
    "with open(\"/tmp/doc-topics-hugo.txt\") as f:\n",
    "    f.readline()  # read one line in order to skip the header\n",
    "    for line in f:\n",
    "        docnum, docname, *values = line.rstrip().split('\\t')\n",
    "        for topic, share in grouper(2, values):\n",
    "            triple = (docname, int(topic), float(share))\n",
    "            doctopic_triples.append(triple)\n",
    "\n",
    "# sort the triples\n",
    "doctopic_triples.sort(key=operator.itemgetter(0,1))\n",
    "docnames = sorted(set([triple[0] for triple in doctopic_triples]))\n",
    "docnames_base = np.array([os.path.splitext(os.path.basename(n))[0] for n in docnames])\n",
    "num_topics = len(doctopic_triples) // len(docnames)\n",
    "\n",
    "doctopic = np.empty((len(docnames), num_topics))\n",
    "for i, (doc_name, triples) in enumerate(itertools.groupby(doctopic_triples, key=operator.itemgetter(0))):\n",
    "    doctopic[i, :] = np.array([share for _, _, share in triples])\n",
    "\n",
    "docnames = docnames_base\n",
    "\n",
    "# get the topic words\n",
    "with open('/tmp/topic-keys-hugo.txt') as input:\n",
    "    topic_keys_lines = input.readlines()\n",
    "topic_words = []\n",
    "for line in topic_keys_lines:\n",
    "    _, _, words = line.split('\\t')  # tab-separated\n",
    "    words = words.rstrip().split(' ')  # remove the trailing '\\n'\n",
    "    topic_words.append(words)"
   ]
  },
  {
   "cell_type": "markdown",
   "metadata": {},
   "source": [
    "Among the fifty topics there is one topic (#35 using 0-based indexing) that\n",
    "jumps out as characteristic of events towards the close of the novel. The words\n",
    "most strongly connected with this topic include “barricade”, “fusil”, and\n",
    "“cartouches” (“barricade”, “rifle”, and “cartridges”)."
   ]
  },
  {
   "cell_type": "code",
   "execution_count": null,
   "metadata": {
    "hide-output": false
   },
   "outputs": [],
   "source": [
    "','.join(topic_words[35])"
   ]
  },
  {
   "cell_type": "markdown",
   "metadata": {},
   "source": [
    "Because the documents are ordered in a sequence, we can plot the fate, so to\n",
    "speak, of this topic over time with the following lines of code:"
   ]
  },
  {
   "cell_type": "code",
   "execution_count": null,
   "metadata": {
    "hide-output": false
   },
   "outputs": [],
   "source": [
    "series = doctopic[:, 35]\n",
    "@savefig plot_topics_over_time_series_simple.png width=7in\n",
    "plt.plot(series, '.')  # '.' specifies the type of mark to use on the graph"
   ]
  },
  {
   "cell_type": "markdown",
   "metadata": {},
   "source": [
    "While this visualization communicates the essential information about the\n",
    "prevalence of a topic in the corpus, it is not perfect. We can improve it. It\n",
    "would, for instance, be useful to include an indication of where the various\n",
    "volumes start and end. Another enhancement would add some kind of “smoothing” to\n",
    "the time series in order to better communicate the underlying trend.\n",
    "\n",
    "A rolling average of the topic shares turns out be a useful form of smoothing in\n",
    "this case. We are interested in the prevalence of a topic over time and whether\n",
    "a topic disappears completely in one 500-word chunk of text (only to reappear in\n",
    "the next) does not interest us. We want to visualize the underlying trend, that\n",
    "is, we need some model or heuristic capable of capturing the idea\n",
    "that the topic (or any similar feature) has an underlying propensity to appear at\n",
    "varying points of the novel and that while this propensity may change over time it\n",
    "does not fluctuate wildly. <sup>[2](#fn-lowess)</sup>\n",
    "\n",
    "Recall that a rolling or moving average of a time series associates with each\n",
    "point in the series the average of some fixed number of previous\n",
    "observations (including the current observation). This fixed number of\n",
    "observations is often\n",
    "called a “window”. The idea of a rolling mean (conveniently implemented in\n",
    "`pandas.rolling_mean()`) is effectively communicated visually:"
   ]
  },
  {
   "cell_type": "code",
   "execution_count": null,
   "metadata": {
    "hide-output": false
   },
   "outputs": [],
   "source": [
    "import pandas as pd\n",
    "\n",
    "z = np.array([  3.,   2.,   3.,   6.,   2.,   3.,   1.,   3.,   8.,   3.,   5.,\n",
    "               8.,   7.,   8.,   7.,   6.,   8.,   7.,   7.,   5.,   8.,   6.,\n",
    "              11.,   6.,   7.,   8.,   8.,   6.,   9.,  15.,  13.,  10.,   9.])\n",
    "pd.rolling_mean(z, 3)"
   ]
  },
  {
   "cell_type": "code",
   "execution_count": null,
   "metadata": {
    "hide-output": false
   },
   "outputs": [],
   "source": [
    "plt.plot(z, '.', alpha=0.5)\n",
    "\n",
    "@savefig plot_topics_over_time_rolling_mean.png width=5in\n",
    "plt.plot(pd.rolling_mean(z, 5), '-', linewidth=2)"
   ]
  },
  {
   "cell_type": "markdown",
   "metadata": {},
   "source": [
    "After making these two improvements—marking the volume boundaries and adding\n",
    "a trend line based on a rolling average—the time series for our topic does\n",
    "a better job of orienting us in the novel and communicating the points in the\n",
    "novel where the topic appears:"
   ]
  },
  {
   "cell_type": "code",
   "execution_count": null,
   "metadata": {
    "hide-output": false
   },
   "outputs": [],
   "source": [
    "import pandas as pd\n",
    "\n",
    "# the values on the x-axis (xs) are simply a sequence of integers\n",
    "# corresponding to the texts (also the rows in the document topic matrix)\n",
    "xs = np.arange(len(series))\n",
    "\n",
    "series_smooth = pd.rolling_mean(series, 15)  # 15 seems to work well here\n",
    "\n",
    "# now we need to calculate at what index each volume starts\n",
    "# there are many ways to do this, two methods are shown below\n",
    "# method #1\n",
    "volume_names = [\"tome-1-fantine\", \"tome-2-cosette\", \"tome-3-marius\", \"tome-4\", \"tome-5-jean-valjean\"]\n",
    "volume_indexes = []\n",
    "for volname in volume_names:\n",
    "    for i, docname in enumerate(docnames):\n",
    "        if volname in docname:\n",
    "            volume_indexes.append(i)\n",
    "            break\n",
    "\n",
    "@suppress\n",
    "volume_indexes_prev = volume_indexes\n",
    "\n",
    "# method #2, use NumPy functions\n",
    "volume_indexes = []\n",
    "for volname in volume_names:\n",
    "    volume_indexes.append(np.min(np.nonzero([volname in docname for docname in docnames])))\n",
    "\n",
    "@suppress\n",
    "assert volume_indexes == volume_indexes_prev\n",
    "\n",
    "# now we can assemble the plot\n",
    "plt.plot(series, '.', alpha=0.3)\n",
    "plt.plot(series_smooth, '-', linewidth=2)\n",
    "plt.vlines(volume_indexes, ymin=0, ymax=np.max(series))\n",
    "text_xs = np.array(volume_indexes) + np.diff(np.array(volume_indexes + [max(xs)]))/2\n",
    "text_ys = np.repeat(max(series), len(volume_names)) - 0.05\n",
    "for x, y, s in zip(text_xs, text_ys, volume_names):\n",
    "    plt.text(x, y, s, horizontalalignment='center')\n",
    "\n",
    "plt.title('Les Misérables, Topic #35 (barricade enjolras ...)')\n",
    "plt.ylabel(\"Topic share\")\n",
    "plt.xlabel(\"Novel segment\")\n",
    "plt.ylim(0, max(series))\n",
    "\n",
    "@savefig plot_topics_over_time_series_les_misérables.png width=7in\n",
    "plt.tight_layout()"
   ]
  },
  {
   "cell_type": "markdown",
   "metadata": {},
   "source": [
    "There are of many other topics that appear in our fit of the corpus. Looping\n",
    "over the topics and saving an image for each topic is straightforward:"
   ]
  },
  {
   "cell_type": "code",
   "execution_count": null,
   "metadata": {
    "hide-output": false
   },
   "outputs": [],
   "source": [
    "for i in range(num_topics):\n",
    "    plt.clf()  # clears the current plot\n",
    "    series = doctopic[:, i]\n",
    "    xs = np.arange(len(series))\n",
    "    series_smooth = pd.rolling_mean(series, 15)\n",
    "    plt.plot(series, '.')\n",
    "    plt.plot(series_smooth, '-', linewidth=2)\n",
    "    plt.title(\"Topic {}: {}\".format(i, ','.join(topic_words[i])))\n",
    "    savefig_fn = \"/tmp/hugo-topic{}.pdf\".format(i)\n",
    "    plt.savefig(savefig_fn, format='pdf')"
   ]
  },
  {
   "cell_type": "markdown",
   "metadata": {},
   "source": [
    "<a id='fn-les-mis'></a>\n",
    "**[1]** The text of Les Misérables has been used in a variety of\n",
    "(interactive) visualization projects, including [Les Misérables\n",
    "Co-occurrence](http://bost.ocks.org/mike/miserables/) and [Novel Views:\n",
    "Les Miserables](http://neoformix.com/2013/NovelViews.html).\n",
    "\n",
    "<a id='fn-lowess'></a>\n",
    "**[2]** For generic smoothing those accustomed to using R will be\n",
    "familiar with the function `loess()` which implements the most common form\n",
    "of scatterplot smoothing. In Python a similar function\n",
    "(`statsmodels.nonparametric.lowess()`) is available in the `statsmodels`\n",
    "package. While we might be tempted to use such a function to communicate\n",
    "visually the basic trend, we will be better served if we think of the\n",
    "sequence of topic shares as a proper time series rather than (merely)\n",
    "a sequence of dependant and independent variables suitable for visualization\n",
    "in a scatter plot."
   ]
  }
 ],
 "metadata": {
  "date": 1577189940.9895773,
  "filename": "visualizing_trends.rst",
  "kernelspec": {
   "display_name": "Python",
   "language": "python3",
   "name": "python3"
  },
  "title": "Visualizing trends"
 },
 "nbformat": 4,
 "nbformat_minor": 2
}